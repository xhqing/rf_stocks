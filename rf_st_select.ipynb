{
 "cells": [
  {
   "cell_type": "code",
   "execution_count": null,
   "id": "3ea732c3-0f48-456e-88af-b85265d4d6f3",
   "metadata": {},
   "outputs": [],
   "source": [
    "import pandas as pd\n",
    "from sklearn.ensemble import RandomForestClassifier\n",
    "from sklearn.model_selection import train_test_split"
   ]
  },
  {
   "cell_type": "code",
   "execution_count": null,
   "id": "bd7bdf75-bfbf-4735-892a-7c0b232bf5b0",
   "metadata": {},
   "outputs": [],
   "source": [
    "ticker = \"BABA\"\n",
    "data = pd.read_csv(f'{ticker}.csv', index_col='Date', parse_dates=True)\n",
    "\n",
    "# 获取股票数据\n",
    "def get_data(ticker):\n",
    "    try:\n",
    "        data = load_data(ticker)\n",
    "    except FileNotFoundError:\n",
    "        data = download_data(ticker)\n",
    "    return data\n",
    "\n",
    "# 计算技术指标\n",
    "def calculate_technical_indicators(data):\n",
    "    data['SMA'] = data['Adj Close'].rolling(window=20).mean()\n",
    "    # data['RSI'] = talib.RSI(data['Adj Close'], timeperiod=14)\n",
    "    data.dropna(inplace=True)\n",
    "    return data\n",
    "\n",
    "# 选股\n",
    "def select_stocks(ticker):\n",
    "    data = get_data(ticker)\n",
    "    data = calculate_technical_indicators(data)\n",
    "\n",
    "    # 构建特征矩阵和标签向量\n",
    "    # features = data[['SMA', 'RSI']]\n",
    "    features = data[['SMA']]\n",
    "    labels = (data['Adj Close'].shift(-1) > data['Adj Close']).astype(int)\n",
    "\n",
    "    # 划分训练集和测试集\n",
    "    X_train, X_test, y_train, y_test = train_test_split(features, labels, test_size=0.2, shuffle=False)\n",
    "\n",
    "    # 构建随机森林模型\n",
    "    clf = RandomForestClassifier(n_estimators=100)\n",
    "    clf.fit(X_train, y_train)\n",
    "\n",
    "    # 预测测试集结果\n",
    "    y_pred = clf.predict(X_test)\n",
    "\n",
    "    # 计算准确率\n",
    "    accuracy = clf.score(X_test, y_test)\n",
    "\n",
    "    return accuracy"
   ]
  }
 ],
 "metadata": {
  "kernelspec": {
   "display_name": "rf_stocks-kw8jdFWM",
   "language": "python",
   "name": "rf_stocks-kw8jdfwm"
  },
  "language_info": {
   "codemirror_mode": {
    "name": "ipython",
    "version": 3
   },
   "file_extension": ".py",
   "mimetype": "text/x-python",
   "name": "python",
   "nbconvert_exporter": "python",
   "pygments_lexer": "ipython3",
   "version": "3.9.13"
  }
 },
 "nbformat": 4,
 "nbformat_minor": 5
}
