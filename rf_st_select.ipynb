{
 "cells": [
  {
   "cell_type": "code",
   "execution_count": 137,
   "id": "3ea732c3-0f48-456e-88af-b85265d4d6f3",
   "metadata": {},
   "outputs": [],
   "source": [
    "import pandas as pd\n",
    "from sklearn.ensemble import RandomForestClassifier\n",
    "from sklearn.model_selection import train_test_split\n",
    "from sklearn.metrics import f1_score\n",
    "import matplotlib.pyplot as plt\n",
    "import numpy as np"
   ]
  },
  {
   "cell_type": "code",
   "execution_count": 138,
   "id": "e8e48834-77d4-481e-b1a7-2a1ba2c96dd9",
   "metadata": {},
   "outputs": [
    {
     "name": "stdout",
     "output_type": "stream",
     "text": [
      "000858.SZ.csv  603259.SS.csv\n"
     ]
    }
   ],
   "source": [
    "ls data"
   ]
  },
  {
   "cell_type": "code",
   "execution_count": 139,
   "id": "a366ca2e-13c8-4267-9fa6-af0916e960be",
   "metadata": {},
   "outputs": [
    {
     "data": {
      "text/html": [
       "<div>\n",
       "<style scoped>\n",
       "    .dataframe tbody tr th:only-of-type {\n",
       "        vertical-align: middle;\n",
       "    }\n",
       "\n",
       "    .dataframe tbody tr th {\n",
       "        vertical-align: top;\n",
       "    }\n",
       "\n",
       "    .dataframe thead th {\n",
       "        text-align: right;\n",
       "    }\n",
       "</style>\n",
       "<table border=\"1\" class=\"dataframe\">\n",
       "  <thead>\n",
       "    <tr style=\"text-align: right;\">\n",
       "      <th></th>\n",
       "      <th>Date</th>\n",
       "      <th>Open</th>\n",
       "      <th>High</th>\n",
       "      <th>Low</th>\n",
       "      <th>Close</th>\n",
       "      <th>Adj Close</th>\n",
       "      <th>Volume</th>\n",
       "    </tr>\n",
       "  </thead>\n",
       "  <tbody>\n",
       "    <tr>\n",
       "      <th>0</th>\n",
       "      <td>2018-05-08</td>\n",
       "      <td>11.020408</td>\n",
       "      <td>11.020408</td>\n",
       "      <td>11.020408</td>\n",
       "      <td>13.222789</td>\n",
       "      <td>13.007851</td>\n",
       "      <td>69946</td>\n",
       "    </tr>\n",
       "    <tr>\n",
       "      <th>1</th>\n",
       "      <td>2018-05-09</td>\n",
       "      <td>14.545068</td>\n",
       "      <td>14.545068</td>\n",
       "      <td>14.545068</td>\n",
       "      <td>14.545068</td>\n",
       "      <td>14.308635</td>\n",
       "      <td>48594</td>\n",
       "    </tr>\n",
       "    <tr>\n",
       "      <th>2</th>\n",
       "      <td>2018-05-10</td>\n",
       "      <td>15.999149</td>\n",
       "      <td>15.999149</td>\n",
       "      <td>15.999149</td>\n",
       "      <td>15.999149</td>\n",
       "      <td>15.739079</td>\n",
       "      <td>19992</td>\n",
       "    </tr>\n",
       "    <tr>\n",
       "      <th>3</th>\n",
       "      <td>2018-05-11</td>\n",
       "      <td>17.597790</td>\n",
       "      <td>17.597790</td>\n",
       "      <td>17.597790</td>\n",
       "      <td>17.597790</td>\n",
       "      <td>17.311735</td>\n",
       "      <td>129818</td>\n",
       "    </tr>\n",
       "    <tr>\n",
       "      <th>4</th>\n",
       "      <td>2018-05-14</td>\n",
       "      <td>19.357992</td>\n",
       "      <td>19.357992</td>\n",
       "      <td>19.357992</td>\n",
       "      <td>19.357992</td>\n",
       "      <td>19.043324</td>\n",
       "      <td>173372</td>\n",
       "    </tr>\n",
       "  </tbody>\n",
       "</table>\n",
       "</div>"
      ],
      "text/plain": [
       "         Date       Open       High        Low      Close  Adj Close  Volume\n",
       "0  2018-05-08  11.020408  11.020408  11.020408  13.222789  13.007851   69946\n",
       "1  2018-05-09  14.545068  14.545068  14.545068  14.545068  14.308635   48594\n",
       "2  2018-05-10  15.999149  15.999149  15.999149  15.999149  15.739079   19992\n",
       "3  2018-05-11  17.597790  17.597790  17.597790  17.597790  17.311735  129818\n",
       "4  2018-05-14  19.357992  19.357992  19.357992  19.357992  19.043324  173372"
      ]
     },
     "execution_count": 139,
     "metadata": {},
     "output_type": "execute_result"
    }
   ],
   "source": [
    "data = pd.read_csv(f'data/603259.SS.csv')\n",
    "data.head()"
   ]
  },
  {
   "cell_type": "code",
   "execution_count": 140,
   "id": "2f696337-56b1-4779-9554-441e59830a8c",
   "metadata": {},
   "outputs": [
    {
     "data": {
      "text/plain": [
       "(939, 7)"
      ]
     },
     "execution_count": 140,
     "metadata": {},
     "output_type": "execute_result"
    }
   ],
   "source": [
    "data.shape"
   ]
  },
  {
   "cell_type": "code",
   "execution_count": 143,
   "id": "486fa1f2-5aa1-4439-aec0-06b031edd18e",
   "metadata": {},
   "outputs": [],
   "source": [
    "data[\"labels\"] = ((data['Adj Close'].shift(-1) > data['Open'].shift(-1)) & (data[\"Open\"].shift(-2) >= data[\"Adj Close\"].shift(-1))).astype(int)"
   ]
  },
  {
   "cell_type": "code",
   "execution_count": 144,
   "id": "b6177cab-978f-48be-a886-5cd4f6358717",
   "metadata": {},
   "outputs": [
    {
     "data": {
      "text/plain": [
       "0    661\n",
       "1    278\n",
       "Name: labels, dtype: int64"
      ]
     },
     "execution_count": 144,
     "metadata": {},
     "output_type": "execute_result"
    }
   ],
   "source": [
    "data[\"labels\"].value_counts()"
   ]
  },
  {
   "cell_type": "code",
   "execution_count": 145,
   "id": "fb9b45f9-7c7f-4fe3-a487-f342b3dc3d5b",
   "metadata": {},
   "outputs": [],
   "source": [
    "data[\"target\"] =  (data['Open'].shift(-2) - data['Open'].shift(-1)).astype(float)"
   ]
  },
  {
   "cell_type": "code",
   "execution_count": 146,
   "id": "c5a5baca-52a6-43a8-94bd-1ebc2c65b8b6",
   "metadata": {},
   "outputs": [
    {
     "data": {
      "text/html": [
       "<div>\n",
       "<style scoped>\n",
       "    .dataframe tbody tr th:only-of-type {\n",
       "        vertical-align: middle;\n",
       "    }\n",
       "\n",
       "    .dataframe tbody tr th {\n",
       "        vertical-align: top;\n",
       "    }\n",
       "\n",
       "    .dataframe thead th {\n",
       "        text-align: right;\n",
       "    }\n",
       "</style>\n",
       "<table border=\"1\" class=\"dataframe\">\n",
       "  <thead>\n",
       "    <tr style=\"text-align: right;\">\n",
       "      <th></th>\n",
       "      <th>Date</th>\n",
       "      <th>Open</th>\n",
       "      <th>High</th>\n",
       "      <th>Low</th>\n",
       "      <th>Close</th>\n",
       "      <th>Adj Close</th>\n",
       "      <th>Volume</th>\n",
       "      <th>labels</th>\n",
       "      <th>target</th>\n",
       "    </tr>\n",
       "  </thead>\n",
       "  <tbody>\n",
       "    <tr>\n",
       "      <th>934</th>\n",
       "      <td>2022-03-14</td>\n",
       "      <td>97.699997</td>\n",
       "      <td>100.500000</td>\n",
       "      <td>95.800003</td>\n",
       "      <td>96.629997</td>\n",
       "      <td>96.153839</td>\n",
       "      <td>23854095</td>\n",
       "      <td>0</td>\n",
       "      <td>2.019997</td>\n",
       "    </tr>\n",
       "    <tr>\n",
       "      <th>935</th>\n",
       "      <td>2022-03-15</td>\n",
       "      <td>93.000000</td>\n",
       "      <td>98.160004</td>\n",
       "      <td>91.010002</td>\n",
       "      <td>93.169998</td>\n",
       "      <td>92.710892</td>\n",
       "      <td>31989210</td>\n",
       "      <td>1</td>\n",
       "      <td>10.970001</td>\n",
       "    </tr>\n",
       "    <tr>\n",
       "      <th>936</th>\n",
       "      <td>2022-03-16</td>\n",
       "      <td>95.019997</td>\n",
       "      <td>102.400002</td>\n",
       "      <td>94.110001</td>\n",
       "      <td>101.570000</td>\n",
       "      <td>101.069496</td>\n",
       "      <td>40315476</td>\n",
       "      <td>0</td>\n",
       "      <td>0.389999</td>\n",
       "    </tr>\n",
       "    <tr>\n",
       "      <th>937</th>\n",
       "      <td>2022-03-17</td>\n",
       "      <td>105.989998</td>\n",
       "      <td>109.199997</td>\n",
       "      <td>104.000000</td>\n",
       "      <td>106.910004</td>\n",
       "      <td>106.383194</td>\n",
       "      <td>45039883</td>\n",
       "      <td>0</td>\n",
       "      <td>NaN</td>\n",
       "    </tr>\n",
       "    <tr>\n",
       "      <th>938</th>\n",
       "      <td>2022-03-18</td>\n",
       "      <td>106.379997</td>\n",
       "      <td>106.379997</td>\n",
       "      <td>103.309998</td>\n",
       "      <td>103.620003</td>\n",
       "      <td>103.109398</td>\n",
       "      <td>29234823</td>\n",
       "      <td>0</td>\n",
       "      <td>NaN</td>\n",
       "    </tr>\n",
       "  </tbody>\n",
       "</table>\n",
       "</div>"
      ],
      "text/plain": [
       "           Date        Open        High         Low       Close   Adj Close  \\\n",
       "934  2022-03-14   97.699997  100.500000   95.800003   96.629997   96.153839   \n",
       "935  2022-03-15   93.000000   98.160004   91.010002   93.169998   92.710892   \n",
       "936  2022-03-16   95.019997  102.400002   94.110001  101.570000  101.069496   \n",
       "937  2022-03-17  105.989998  109.199997  104.000000  106.910004  106.383194   \n",
       "938  2022-03-18  106.379997  106.379997  103.309998  103.620003  103.109398   \n",
       "\n",
       "       Volume  labels     target  \n",
       "934  23854095       0   2.019997  \n",
       "935  31989210       1  10.970001  \n",
       "936  40315476       0   0.389999  \n",
       "937  45039883       0        NaN  \n",
       "938  29234823       0        NaN  "
      ]
     },
     "execution_count": 146,
     "metadata": {},
     "output_type": "execute_result"
    }
   ],
   "source": [
    "data.tail()"
   ]
  },
  {
   "cell_type": "code",
   "execution_count": 147,
   "id": "db8aa9ff-e711-42d0-a31c-af1dfa96324d",
   "metadata": {},
   "outputs": [],
   "source": [
    "data.drop([937, 938], axis=0, inplace=True)"
   ]
  },
  {
   "cell_type": "code",
   "execution_count": 148,
   "id": "993207ea-ee07-4215-a285-e92f7fd518b0",
   "metadata": {},
   "outputs": [
    {
     "data": {
      "text/html": [
       "<div>\n",
       "<style scoped>\n",
       "    .dataframe tbody tr th:only-of-type {\n",
       "        vertical-align: middle;\n",
       "    }\n",
       "\n",
       "    .dataframe tbody tr th {\n",
       "        vertical-align: top;\n",
       "    }\n",
       "\n",
       "    .dataframe thead th {\n",
       "        text-align: right;\n",
       "    }\n",
       "</style>\n",
       "<table border=\"1\" class=\"dataframe\">\n",
       "  <thead>\n",
       "    <tr style=\"text-align: right;\">\n",
       "      <th></th>\n",
       "      <th>Date</th>\n",
       "      <th>Open</th>\n",
       "      <th>High</th>\n",
       "      <th>Low</th>\n",
       "      <th>Close</th>\n",
       "      <th>Adj Close</th>\n",
       "      <th>Volume</th>\n",
       "      <th>labels</th>\n",
       "      <th>target</th>\n",
       "    </tr>\n",
       "  </thead>\n",
       "  <tbody>\n",
       "    <tr>\n",
       "      <th>406</th>\n",
       "      <td>2020-01-06</td>\n",
       "      <td>52.416664</td>\n",
       "      <td>52.619045</td>\n",
       "      <td>51.154762</td>\n",
       "      <td>51.547619</td>\n",
       "      <td>51.034634</td>\n",
       "      <td>33691269</td>\n",
       "      <td>1</td>\n",
       "      <td>0.244049</td>\n",
       "    </tr>\n",
       "    <tr>\n",
       "      <th>515</th>\n",
       "      <td>2020-06-19</td>\n",
       "      <td>71.458336</td>\n",
       "      <td>75.099998</td>\n",
       "      <td>71.191666</td>\n",
       "      <td>74.316666</td>\n",
       "      <td>73.797806</td>\n",
       "      <td>29203285</td>\n",
       "      <td>1</td>\n",
       "      <td>0.308334</td>\n",
       "    </tr>\n",
       "    <tr>\n",
       "      <th>322</th>\n",
       "      <td>2019-08-30</td>\n",
       "      <td>49.404762</td>\n",
       "      <td>52.440475</td>\n",
       "      <td>49.404762</td>\n",
       "      <td>51.607143</td>\n",
       "      <td>51.093563</td>\n",
       "      <td>17024327</td>\n",
       "      <td>1</td>\n",
       "      <td>0.333332</td>\n",
       "    </tr>\n",
       "    <tr>\n",
       "      <th>142</th>\n",
       "      <td>2018-12-03</td>\n",
       "      <td>34.863945</td>\n",
       "      <td>35.918365</td>\n",
       "      <td>34.778912</td>\n",
       "      <td>35.799320</td>\n",
       "      <td>35.217400</td>\n",
       "      <td>15667344</td>\n",
       "      <td>1</td>\n",
       "      <td>0.335884</td>\n",
       "    </tr>\n",
       "    <tr>\n",
       "      <th>243</th>\n",
       "      <td>2019-05-10</td>\n",
       "      <td>32.312923</td>\n",
       "      <td>33.375851</td>\n",
       "      <td>31.972790</td>\n",
       "      <td>33.282310</td>\n",
       "      <td>32.741299</td>\n",
       "      <td>14339812</td>\n",
       "      <td>1</td>\n",
       "      <td>0.403912</td>\n",
       "    </tr>\n",
       "    <tr>\n",
       "      <th>...</th>\n",
       "      <td>...</td>\n",
       "      <td>...</td>\n",
       "      <td>...</td>\n",
       "      <td>...</td>\n",
       "      <td>...</td>\n",
       "      <td>...</td>\n",
       "      <td>...</td>\n",
       "      <td>...</td>\n",
       "      <td>...</td>\n",
       "    </tr>\n",
       "    <tr>\n",
       "      <th>719</th>\n",
       "      <td>2021-04-22</td>\n",
       "      <td>118.991669</td>\n",
       "      <td>119.166664</td>\n",
       "      <td>116.758331</td>\n",
       "      <td>117.158333</td>\n",
       "      <td>116.340363</td>\n",
       "      <td>16743538</td>\n",
       "      <td>1</td>\n",
       "      <td>10.841667</td>\n",
       "    </tr>\n",
       "    <tr>\n",
       "      <th>935</th>\n",
       "      <td>2022-03-15</td>\n",
       "      <td>93.000000</td>\n",
       "      <td>98.160004</td>\n",
       "      <td>91.010002</td>\n",
       "      <td>93.169998</td>\n",
       "      <td>92.710892</td>\n",
       "      <td>31989210</td>\n",
       "      <td>1</td>\n",
       "      <td>10.970001</td>\n",
       "    </tr>\n",
       "    <tr>\n",
       "      <th>783</th>\n",
       "      <td>2021-07-27</td>\n",
       "      <td>143.899994</td>\n",
       "      <td>152.000000</td>\n",
       "      <td>143.130005</td>\n",
       "      <td>144.600006</td>\n",
       "      <td>143.887466</td>\n",
       "      <td>33480115</td>\n",
       "      <td>1</td>\n",
       "      <td>12.119995</td>\n",
       "    </tr>\n",
       "    <tr>\n",
       "      <th>660</th>\n",
       "      <td>2021-01-21</td>\n",
       "      <td>130.750000</td>\n",
       "      <td>134.241669</td>\n",
       "      <td>130.000000</td>\n",
       "      <td>133.333328</td>\n",
       "      <td>132.402420</td>\n",
       "      <td>20579223</td>\n",
       "      <td>1</td>\n",
       "      <td>12.416672</td>\n",
       "    </tr>\n",
       "    <tr>\n",
       "      <th>768</th>\n",
       "      <td>2021-07-06</td>\n",
       "      <td>154.000000</td>\n",
       "      <td>154.000000</td>\n",
       "      <td>139.800003</td>\n",
       "      <td>146.029999</td>\n",
       "      <td>145.310410</td>\n",
       "      <td>47440766</td>\n",
       "      <td>1</td>\n",
       "      <td>12.699997</td>\n",
       "    </tr>\n",
       "  </tbody>\n",
       "</table>\n",
       "<p>278 rows × 9 columns</p>\n",
       "</div>"
      ],
      "text/plain": [
       "           Date        Open        High         Low       Close   Adj Close  \\\n",
       "406  2020-01-06   52.416664   52.619045   51.154762   51.547619   51.034634   \n",
       "515  2020-06-19   71.458336   75.099998   71.191666   74.316666   73.797806   \n",
       "322  2019-08-30   49.404762   52.440475   49.404762   51.607143   51.093563   \n",
       "142  2018-12-03   34.863945   35.918365   34.778912   35.799320   35.217400   \n",
       "243  2019-05-10   32.312923   33.375851   31.972790   33.282310   32.741299   \n",
       "..          ...         ...         ...         ...         ...         ...   \n",
       "719  2021-04-22  118.991669  119.166664  116.758331  117.158333  116.340363   \n",
       "935  2022-03-15   93.000000   98.160004   91.010002   93.169998   92.710892   \n",
       "783  2021-07-27  143.899994  152.000000  143.130005  144.600006  143.887466   \n",
       "660  2021-01-21  130.750000  134.241669  130.000000  133.333328  132.402420   \n",
       "768  2021-07-06  154.000000  154.000000  139.800003  146.029999  145.310410   \n",
       "\n",
       "       Volume  labels     target  \n",
       "406  33691269       1   0.244049  \n",
       "515  29203285       1   0.308334  \n",
       "322  17024327       1   0.333332  \n",
       "142  15667344       1   0.335884  \n",
       "243  14339812       1   0.403912  \n",
       "..        ...     ...        ...  \n",
       "719  16743538       1  10.841667  \n",
       "935  31989210       1  10.970001  \n",
       "783  33480115       1  12.119995  \n",
       "660  20579223       1  12.416672  \n",
       "768  47440766       1  12.699997  \n",
       "\n",
       "[278 rows x 9 columns]"
      ]
     },
     "execution_count": 148,
     "metadata": {},
     "output_type": "execute_result"
    }
   ],
   "source": [
    "data.query(\"labels==1\").sort_values(by=\"target\")"
   ]
  },
  {
   "cell_type": "code",
   "execution_count": null,
   "id": "6bfcb56a-1aad-4aed-8707-7115b15783cb",
   "metadata": {},
   "outputs": [],
   "source": []
  },
  {
   "cell_type": "code",
   "execution_count": 149,
   "id": "37896bd4-dd5b-478d-8876-16725da524c1",
   "metadata": {},
   "outputs": [],
   "source": [
    "data.set_index(\"Date\", inplace=True)"
   ]
  },
  {
   "cell_type": "code",
   "execution_count": 158,
   "id": "2d89efea-dec9-44db-b3dc-24201f65811c",
   "metadata": {},
   "outputs": [],
   "source": [
    "X_train, X_test, y_train, y_test = train_test_split(data.drop([\"labels\", \"target\"], axis=1), data[\"labels\"], test_size=0.2, shuffle=False)\n",
    "clf = RandomForestClassifier(n_estimators=100)\n",
    "clf.fit(X_train, y_train)\n",
    "\n",
    "y_pred = clf.predict(X_test)\n",
    "f1 = f1_score(y_test, y_pred)"
   ]
  },
  {
   "cell_type": "code",
   "execution_count": 159,
   "id": "9b96628a-4e33-4bd3-ba60-2abe2c728e5e",
   "metadata": {},
   "outputs": [
    {
     "data": {
      "text/plain": [
       "0.23214285714285715"
      ]
     },
     "execution_count": 159,
     "metadata": {},
     "output_type": "execute_result"
    }
   ],
   "source": [
    "f1"
   ]
  },
  {
   "cell_type": "code",
   "execution_count": null,
   "id": "4c1e6b3e-5e37-450b-8e95-29f70838c3fe",
   "metadata": {},
   "outputs": [],
   "source": []
  }
 ],
 "metadata": {
  "kernelspec": {
   "display_name": "rf_stocks-kw8jdFWM",
   "language": "python",
   "name": "rf_stocks-kw8jdfwm"
  },
  "language_info": {
   "codemirror_mode": {
    "name": "ipython",
    "version": 3
   },
   "file_extension": ".py",
   "mimetype": "text/x-python",
   "name": "python",
   "nbconvert_exporter": "python",
   "pygments_lexer": "ipython3",
   "version": "3.9.13"
  }
 },
 "nbformat": 4,
 "nbformat_minor": 5
}
