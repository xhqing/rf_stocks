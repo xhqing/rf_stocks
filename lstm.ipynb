{
 "cells": [
  {
   "cell_type": "code",
   "execution_count": 1,
   "id": "6588f8f2-f813-4862-b815-71594535a18a",
   "metadata": {},
   "outputs": [],
   "source": [
    "import pandas as pd\n",
    "import numpy as np\n",
    "import matplotlib.pyplot as plt\n",
    "from keras.models import Sequential\n",
    "from keras.layers import Dense, LSTM\n",
    "from sklearn.preprocessing import StandardScaler\n",
    "from sklearn.metrics import mean_absolute_error, mean_squared_error"
   ]
  },
  {
   "cell_type": "code",
   "execution_count": 2,
   "id": "c4652ca8-8f97-4844-aa2d-380267650c32",
   "metadata": {},
   "outputs": [],
   "source": [
    "data = pd.read_csv(\"wly.csv\")"
   ]
  },
  {
   "cell_type": "code",
   "execution_count": 3,
   "id": "638a4598-f6ad-46fc-93fc-1c147c31bcbd",
   "metadata": {},
   "outputs": [
    {
     "data": {
      "text/plain": [
       "(4404, 7)"
      ]
     },
     "execution_count": 3,
     "metadata": {},
     "output_type": "execute_result"
    }
   ],
   "source": [
    "data.shape"
   ]
  },
  {
   "cell_type": "code",
   "execution_count": 4,
   "id": "20e7c51f-4361-4527-b5d6-558a7dcf580e",
   "metadata": {},
   "outputs": [
    {
     "data": {
      "text/html": [
       "<div>\n",
       "<style scoped>\n",
       "    .dataframe tbody tr th:only-of-type {\n",
       "        vertical-align: middle;\n",
       "    }\n",
       "\n",
       "    .dataframe tbody tr th {\n",
       "        vertical-align: top;\n",
       "    }\n",
       "\n",
       "    .dataframe thead th {\n",
       "        text-align: right;\n",
       "    }\n",
       "</style>\n",
       "<table border=\"1\" class=\"dataframe\">\n",
       "  <thead>\n",
       "    <tr style=\"text-align: right;\">\n",
       "      <th></th>\n",
       "      <th>Datetime</th>\n",
       "      <th>Open</th>\n",
       "      <th>High</th>\n",
       "      <th>Low</th>\n",
       "      <th>Close</th>\n",
       "      <th>Adj Close</th>\n",
       "      <th>Volume</th>\n",
       "    </tr>\n",
       "  </thead>\n",
       "  <tbody>\n",
       "    <tr>\n",
       "      <th>0</th>\n",
       "      <td>2023-02-13 09:30:00+08:00</td>\n",
       "      <td>203.899994</td>\n",
       "      <td>206.259995</td>\n",
       "      <td>203.509995</td>\n",
       "      <td>205.940002</td>\n",
       "      <td>205.940002</td>\n",
       "      <td>978400</td>\n",
       "    </tr>\n",
       "    <tr>\n",
       "      <th>1</th>\n",
       "      <td>2023-02-13 09:32:00+08:00</td>\n",
       "      <td>205.809998</td>\n",
       "      <td>207.410004</td>\n",
       "      <td>205.160004</td>\n",
       "      <td>206.720001</td>\n",
       "      <td>206.720001</td>\n",
       "      <td>677560</td>\n",
       "    </tr>\n",
       "    <tr>\n",
       "      <th>2</th>\n",
       "      <td>2023-02-13 09:34:00+08:00</td>\n",
       "      <td>206.720001</td>\n",
       "      <td>208.589996</td>\n",
       "      <td>206.720001</td>\n",
       "      <td>208.479996</td>\n",
       "      <td>208.479996</td>\n",
       "      <td>703468</td>\n",
       "    </tr>\n",
       "    <tr>\n",
       "      <th>3</th>\n",
       "      <td>2023-02-13 09:36:00+08:00</td>\n",
       "      <td>208.500000</td>\n",
       "      <td>208.500000</td>\n",
       "      <td>207.589996</td>\n",
       "      <td>208.289993</td>\n",
       "      <td>208.289993</td>\n",
       "      <td>445200</td>\n",
       "    </tr>\n",
       "    <tr>\n",
       "      <th>4</th>\n",
       "      <td>2023-02-13 09:38:00+08:00</td>\n",
       "      <td>208.289993</td>\n",
       "      <td>210.199997</td>\n",
       "      <td>208.240005</td>\n",
       "      <td>210.199997</td>\n",
       "      <td>210.199997</td>\n",
       "      <td>944950</td>\n",
       "    </tr>\n",
       "  </tbody>\n",
       "</table>\n",
       "</div>"
      ],
      "text/plain": [
       "                    Datetime        Open        High         Low       Close  \\\n",
       "0  2023-02-13 09:30:00+08:00  203.899994  206.259995  203.509995  205.940002   \n",
       "1  2023-02-13 09:32:00+08:00  205.809998  207.410004  205.160004  206.720001   \n",
       "2  2023-02-13 09:34:00+08:00  206.720001  208.589996  206.720001  208.479996   \n",
       "3  2023-02-13 09:36:00+08:00  208.500000  208.500000  207.589996  208.289993   \n",
       "4  2023-02-13 09:38:00+08:00  208.289993  210.199997  208.240005  210.199997   \n",
       "\n",
       "    Adj Close  Volume  \n",
       "0  205.940002  978400  \n",
       "1  206.720001  677560  \n",
       "2  208.479996  703468  \n",
       "3  208.289993  445200  \n",
       "4  210.199997  944950  "
      ]
     },
     "execution_count": 4,
     "metadata": {},
     "output_type": "execute_result"
    }
   ],
   "source": [
    "data.head()"
   ]
  },
  {
   "cell_type": "code",
   "execution_count": 5,
   "id": "ee605125-e7ca-4b84-bd78-d9db32cb9b96",
   "metadata": {},
   "outputs": [],
   "source": [
    "data[\"Datetime\"] = data[\"Datetime\"].astype(str)"
   ]
  },
  {
   "cell_type": "code",
   "execution_count": 6,
   "id": "8d10fcd2-ce92-46c9-80e4-3e6ce6beabf1",
   "metadata": {},
   "outputs": [],
   "source": [
    "data[\"Date\"] = data[\"Datetime\"].apply(lambda x: x[:10])"
   ]
  },
  {
   "cell_type": "code",
   "execution_count": 7,
   "id": "44a5347d-f1fc-48f4-880d-e3044e0cab8c",
   "metadata": {},
   "outputs": [
    {
     "data": {
      "text/plain": [
       "138    19\n",
       "137     8\n",
       "136     3\n",
       "139     2\n",
       "dtype: int64"
      ]
     },
     "execution_count": 7,
     "metadata": {},
     "output_type": "execute_result"
    }
   ],
   "source": [
    "data.groupby(\"Date\").size().value_counts()"
   ]
  },
  {
   "cell_type": "code",
   "execution_count": 8,
   "id": "2065a7ce-8fcc-4565-b9d3-a020e53edc7c",
   "metadata": {},
   "outputs": [
    {
     "data": {
      "text/plain": [
       "array(['2023-02-13', '2023-02-14', '2023-02-15', '2023-02-16',\n",
       "       '2023-02-17', '2023-02-20', '2023-02-21', '2023-02-22',\n",
       "       '2023-02-23', '2023-02-24', '2023-02-27', '2023-02-28',\n",
       "       '2023-03-01', '2023-03-02', '2023-03-03', '2023-03-06',\n",
       "       '2023-03-07', '2023-03-08', '2023-03-09', '2023-03-10',\n",
       "       '2023-03-13', '2023-03-14', '2023-03-15', '2023-03-16',\n",
       "       '2023-03-17', '2023-03-20', '2023-03-21', '2023-03-22',\n",
       "       '2023-03-23', '2023-03-24', '2023-03-27', '2023-03-28'],\n",
       "      dtype=object)"
      ]
     },
     "execution_count": 8,
     "metadata": {},
     "output_type": "execute_result"
    }
   ],
   "source": [
    "data[\"Date\"].unique()"
   ]
  },
  {
   "cell_type": "code",
   "execution_count": 9,
   "id": "e3a724c7-7df3-48eb-a685-d34c5b1897ed",
   "metadata": {},
   "outputs": [
    {
     "data": {
      "text/plain": [
       "<Axes: >"
      ]
     },
     "execution_count": 9,
     "metadata": {},
     "output_type": "execute_result"
    },
    {
     "data": {
      "image/png": "[encoded data removed]",
      "text/plain": [
       "<Figure size 640x480 with 1 Axes>"
      ]
     },
     "metadata": {},
     "output_type": "display_data"
    }
   ],
   "source": [
    "data[\"Adj Close\"].plot()"
   ]
  },
  {
   "cell_type": "code",
   "execution_count": 10,
   "id": "4e2d24fd-c971-46b2-b1cf-44f1a81d1b39",
   "metadata": {},
   "outputs": [
    {
     "data": {
      "text/html": [
       "<div>\n",
       "<style scoped>\n",
       "    .dataframe tbody tr th:only-of-type {\n",
       "        vertical-align: middle;\n",
       "    }\n",
       "\n",
       "    .dataframe tbody tr th {\n",
       "        vertical-align: top;\n",
       "    }\n",
       "\n",
       "    .dataframe thead th {\n",
       "        text-align: right;\n",
       "    }\n",
       "</style>\n",
       "<table border=\"1\" class=\"dataframe\">\n",
       "  <thead>\n",
       "    <tr style=\"text-align: right;\">\n",
       "      <th></th>\n",
       "      <th>Open</th>\n",
       "      <th>High</th>\n",
       "      <th>Low</th>\n",
       "      <th>Close</th>\n",
       "      <th>Adj Close</th>\n",
       "      <th>Volume</th>\n",
       "    </tr>\n",
       "  </thead>\n",
       "  <tbody>\n",
       "    <tr>\n",
       "      <th>Open</th>\n",
       "      <td>1.000000</td>\n",
       "      <td>0.999534</td>\n",
       "      <td>0.999590</td>\n",
       "      <td>0.999206</td>\n",
       "      <td>0.999206</td>\n",
       "      <td>0.023723</td>\n",
       "    </tr>\n",
       "    <tr>\n",
       "      <th>High</th>\n",
       "      <td>0.999534</td>\n",
       "      <td>1.000000</td>\n",
       "      <td>0.999266</td>\n",
       "      <td>0.999610</td>\n",
       "      <td>0.999610</td>\n",
       "      <td>0.028880</td>\n",
       "    </tr>\n",
       "    <tr>\n",
       "      <th>Low</th>\n",
       "      <td>0.999590</td>\n",
       "      <td>0.999266</td>\n",
       "      <td>1.000000</td>\n",
       "      <td>0.999569</td>\n",
       "      <td>0.999569</td>\n",
       "      <td>0.021183</td>\n",
       "    </tr>\n",
       "    <tr>\n",
       "      <th>Close</th>\n",
       "      <td>0.999206</td>\n",
       "      <td>0.999610</td>\n",
       "      <td>0.999569</td>\n",
       "      <td>1.000000</td>\n",
       "      <td>1.000000</td>\n",
       "      <td>0.025959</td>\n",
       "    </tr>\n",
       "    <tr>\n",
       "      <th>Adj Close</th>\n",
       "      <td>0.999206</td>\n",
       "      <td>0.999610</td>\n",
       "      <td>0.999569</td>\n",
       "      <td>1.000000</td>\n",
       "      <td>1.000000</td>\n",
       "      <td>0.025959</td>\n",
       "    </tr>\n",
       "    <tr>\n",
       "      <th>Volume</th>\n",
       "      <td>0.023723</td>\n",
       "      <td>0.028880</td>\n",
       "      <td>0.021183</td>\n",
       "      <td>0.025959</td>\n",
       "      <td>0.025959</td>\n",
       "      <td>1.000000</td>\n",
       "    </tr>\n",
       "  </tbody>\n",
       "</table>\n",
       "</div>"
      ],
      "text/plain": [
       "               Open      High       Low     Close  Adj Close    Volume\n",
       "Open       1.000000  0.999534  0.999590  0.999206   0.999206  0.023723\n",
       "High       0.999534  1.000000  0.999266  0.999610   0.999610  0.028880\n",
       "Low        0.999590  0.999266  1.000000  0.999569   0.999569  0.021183\n",
       "Close      0.999206  0.999610  0.999569  1.000000   1.000000  0.025959\n",
       "Adj Close  0.999206  0.999610  0.999569  1.000000   1.000000  0.025959\n",
       "Volume     0.023723  0.028880  0.021183  0.025959   0.025959  1.000000"
      ]
     },
     "execution_count": 10,
     "metadata": {},
     "output_type": "execute_result"
    }
   ],
   "source": [
    "data.drop([\"Datetime\",\"Date\"], axis=1).corr()"
   ]
  },
  {
   "cell_type": "code",
   "execution_count": 11,
   "id": "b3107238-c8b6-4515-9a33-21f9adc8dce2",
   "metadata": {},
   "outputs": [],
   "source": [
    "seq = data.query(\"Date < '2023-03-27'\").drop([\"Datetime\",\"Date\"], axis=1).values\n",
    "seq_col4_mean = seq[:,4].mean()\n",
    "seq_col4_std = seq[:,4].std()"
   ]
  },
  {
   "cell_type": "code",
   "execution_count": 12,
   "id": "d71d1da5-bbd2-4f7b-b021-a39b9ca11f0c",
   "metadata": {},
   "outputs": [],
   "source": [
    "def create_dataset(sequence, look_back, look_forward):\n",
    "    data, target = [], []\n",
    "    for i in range(len(sequence)-look_back-look_forward):\n",
    "        data.append(sequence[i:i+look_back])\n",
    "        target.append(sequence[i+look_back:i+look_back+look_forward,4])\n",
    "    return np.array(data), np.array(target)"
   ]
  },
  {
   "cell_type": "code",
   "execution_count": 13,
   "id": "b3ad0c63-2948-4784-a0fa-4ced58646e17",
   "metadata": {},
   "outputs": [],
   "source": [
    "look_back = 5*136\n",
    "look_forward = 136\n",
    "input_shape = (look_back, 6)"
   ]
  },
  {
   "cell_type": "code",
   "execution_count": 14,
   "id": "881874fb-30a7-488b-8afa-34f338d3b263",
   "metadata": {},
   "outputs": [],
   "source": [
    "ss = StandardScaler()\n",
    "ss.fit(seq)\n",
    "seq = ss.transform(seq)"
   ]
  },
  {
   "cell_type": "code",
   "execution_count": 15,
   "id": "338818e1-5e30-48af-962e-8c9af8d4a0e1",
   "metadata": {},
   "outputs": [
    {
     "data": {
      "text/plain": [
       "((3312, 680, 6), (3312, 136))"
      ]
     },
     "execution_count": 15,
     "metadata": {},
     "output_type": "execute_result"
    }
   ],
   "source": [
    "X, y = create_dataset(seq, look_back, look_forward)\n",
    "X.shape, y.shape"
   ]
  },
  {
   "cell_type": "code",
   "execution_count": 16,
   "id": "72f52a8c-08a5-4707-8bcb-6a4c3df7eacb",
   "metadata": {},
   "outputs": [],
   "source": [
    "samples_num = X.shape[0]\n",
    "train_x = X[:int(0.8*samples_num),:,:]\n",
    "train_y = y[:int(0.8*samples_num),:]\n",
    "val_x = X[:int(0.8*samples_num),:,:]\n",
    "val_y = y[:int(0.8*samples_num),:]"
   ]
  },
  {
   "cell_type": "code",
   "execution_count": 17,
   "id": "56eb787a-df51-400f-96fa-6644e65af51d",
   "metadata": {},
   "outputs": [
    {
     "name": "stdout",
     "output_type": "stream",
     "text": [
      "Epoch 1/10\n"
     ]
    },
    {
     "name": "stderr",
     "output_type": "stream",
     "text": [
      "2023-03-29 23:05:04.573243: W tensorflow/tsl/platform/profile_utils/cpu_utils.cc:128] Failed to get CPU frequency: 0 Hz\n"
     ]
    },
    {
     "name": "stdout",
     "output_type": "stream",
     "text": [
      "104/104 [==============================] - 12s 107ms/step - loss: 0.1978\n",
      "Epoch 2/10\n",
      "104/104 [==============================] - 11s 107ms/step - loss: 0.0672\n",
      "Epoch 3/10\n",
      "104/104 [==============================] - 11s 107ms/step - loss: 0.0625\n",
      "Epoch 4/10\n",
      "104/104 [==============================] - 12s 113ms/step - loss: 0.0603\n",
      "Epoch 5/10\n",
      "104/104 [==============================] - 12s 111ms/step - loss: 0.0581\n",
      "Epoch 6/10\n",
      "104/104 [==============================] - 11s 109ms/step - loss: 0.0567\n",
      "Epoch 7/10\n",
      "104/104 [==============================] - 12s 112ms/step - loss: 0.0575\n",
      "Epoch 8/10\n",
      "104/104 [==============================] - 11s 109ms/step - loss: 0.0548\n",
      "Epoch 9/10\n",
      "104/104 [==============================] - 12s 112ms/step - loss: 0.0555\n",
      "Epoch 10/10\n",
      "104/104 [==============================] - 12s 115ms/step - loss: 0.0520\n"
     ]
    },
    {
     "data": {
      "text/plain": [
       "<keras.callbacks.History at 0x1675af850>"
      ]
     },
     "execution_count": 17,
     "metadata": {},
     "output_type": "execute_result"
    }
   ],
   "source": [
    "model = Sequential()\n",
    "model.add(LSTM(64, input_shape=input_shape))\n",
    "model.add(Dense(look_forward))\n",
    "model.compile(loss='mse', optimizer='adam')\n",
    "\n",
    "model.fit(X, y, epochs=10, batch_size=32)"
   ]
  },
  {
   "cell_type": "code",
   "execution_count": 18,
   "id": "dfb2c6ec-03b5-41e9-856a-b2c217e2ea4c",
   "metadata": {},
   "outputs": [
    {
     "name": "stdout",
     "output_type": "stream",
     "text": [
      "83/83 [==============================] - 3s 28ms/step\n"
     ]
    },
    {
     "data": {
      "text/plain": [
       "(2649, 136)"
      ]
     },
     "execution_count": 18,
     "metadata": {},
     "output_type": "execute_result"
    }
   ],
   "source": [
    "y_pred = model.predict(val_x)\n",
    "y_pred.shape"
   ]
  },
  {
   "cell_type": "code",
   "execution_count": 19,
   "id": "c999377a-b8c4-451f-ad2e-33af4acd699b",
   "metadata": {},
   "outputs": [
    {
     "data": {
      "text/plain": [
       "(2649, 136)"
      ]
     },
     "execution_count": 19,
     "metadata": {},
     "output_type": "execute_result"
    }
   ],
   "source": [
    "val_y.shape"
   ]
  },
  {
   "cell_type": "code",
   "execution_count": 20,
   "id": "13f44180-355d-45b4-b224-521cf942120c",
   "metadata": {},
   "outputs": [],
   "source": [
    "y_pred = y_pred*seq_col4_std + seq_col4_mean\n",
    "val_y = val_y*seq_col4_std + seq_col4_mean"
   ]
  },
  {
   "cell_type": "code",
   "execution_count": 21,
   "id": "f608a0fa-d262-49bf-af12-157a147b19f8",
   "metadata": {},
   "outputs": [
    {
     "data": {
      "text/plain": [
       "1.1715154416359994"
      ]
     },
     "execution_count": 21,
     "metadata": {},
     "output_type": "execute_result"
    }
   ],
   "source": [
    "mean_absolute_error(val_y.flatten(), y_pred.flatten())"
   ]
  },
  {
   "cell_type": "code",
   "execution_count": 22,
   "id": "328b49b5-22fb-496b-b43b-03e096b65c20",
   "metadata": {},
   "outputs": [
    {
     "data": {
      "text/plain": [
       "Date\n",
       "2023-03-20    138\n",
       "2023-03-21    138\n",
       "2023-03-22    137\n",
       "2023-03-23    136\n",
       "2023-03-24    138\n",
       "2023-03-27    138\n",
       "2023-03-28    138\n",
       "dtype: int64"
      ]
     },
     "execution_count": 22,
     "metadata": {},
     "output_type": "execute_result"
    }
   ],
   "source": [
    "data.query(\"Date >= '2023-03-20' and Date < '2023-03-29'\").groupby(\"Date\").size()"
   ]
  },
  {
   "cell_type": "code",
   "execution_count": 25,
   "id": "102ae024-972b-412f-9091-cc36c2bb0a97",
   "metadata": {},
   "outputs": [
    {
     "data": {
      "text/html": [
       "<div>\n",
       "<style scoped>\n",
       "    .dataframe tbody tr th:only-of-type {\n",
       "        vertical-align: middle;\n",
       "    }\n",
       "\n",
       "    .dataframe tbody tr th {\n",
       "        vertical-align: top;\n",
       "    }\n",
       "\n",
       "    .dataframe thead th {\n",
       "        text-align: right;\n",
       "    }\n",
       "</style>\n",
       "<table border=\"1\" class=\"dataframe\">\n",
       "  <thead>\n",
       "    <tr style=\"text-align: right;\">\n",
       "      <th></th>\n",
       "      <th>Datetime</th>\n",
       "      <th>Open</th>\n",
       "      <th>High</th>\n",
       "      <th>Low</th>\n",
       "      <th>Close</th>\n",
       "      <th>Adj Close</th>\n",
       "      <th>Volume</th>\n",
       "      <th>Date</th>\n",
       "    </tr>\n",
       "  </thead>\n",
       "  <tbody>\n",
       "    <tr>\n",
       "      <th>687</th>\n",
       "      <td>2023-03-27 09:30:00+08:00</td>\n",
       "      <td>192.800003</td>\n",
       "      <td>192.800003</td>\n",
       "      <td>189.539993</td>\n",
       "      <td>189.800003</td>\n",
       "      <td>189.800003</td>\n",
       "      <td>698700</td>\n",
       "      <td>2023-03-27</td>\n",
       "    </tr>\n",
       "    <tr>\n",
       "      <th>688</th>\n",
       "      <td>2023-03-27 09:32:00+08:00</td>\n",
       "      <td>189.559998</td>\n",
       "      <td>190.500000</td>\n",
       "      <td>189.559998</td>\n",
       "      <td>190.350006</td>\n",
       "      <td>190.350006</td>\n",
       "      <td>340100</td>\n",
       "      <td>2023-03-27</td>\n",
       "    </tr>\n",
       "    <tr>\n",
       "      <th>689</th>\n",
       "      <td>2023-03-27 09:34:00+08:00</td>\n",
       "      <td>190.289993</td>\n",
       "      <td>190.740005</td>\n",
       "      <td>190.289993</td>\n",
       "      <td>190.470001</td>\n",
       "      <td>190.470001</td>\n",
       "      <td>206400</td>\n",
       "      <td>2023-03-27</td>\n",
       "    </tr>\n",
       "    <tr>\n",
       "      <th>690</th>\n",
       "      <td>2023-03-27 09:36:00+08:00</td>\n",
       "      <td>190.449997</td>\n",
       "      <td>190.449997</td>\n",
       "      <td>190.000000</td>\n",
       "      <td>190.009995</td>\n",
       "      <td>190.009995</td>\n",
       "      <td>248599</td>\n",
       "      <td>2023-03-27</td>\n",
       "    </tr>\n",
       "    <tr>\n",
       "      <th>691</th>\n",
       "      <td>2023-03-27 09:38:00+08:00</td>\n",
       "      <td>190.009995</td>\n",
       "      <td>190.839996</td>\n",
       "      <td>189.919998</td>\n",
       "      <td>190.500000</td>\n",
       "      <td>190.500000</td>\n",
       "      <td>138500</td>\n",
       "      <td>2023-03-27</td>\n",
       "    </tr>\n",
       "    <tr>\n",
       "      <th>...</th>\n",
       "      <td>...</td>\n",
       "      <td>...</td>\n",
       "      <td>...</td>\n",
       "      <td>...</td>\n",
       "      <td>...</td>\n",
       "      <td>...</td>\n",
       "      <td>...</td>\n",
       "      <td>...</td>\n",
       "    </tr>\n",
       "    <tr>\n",
       "      <th>958</th>\n",
       "      <td>2023-03-28 14:48:00+08:00</td>\n",
       "      <td>192.270004</td>\n",
       "      <td>192.360001</td>\n",
       "      <td>192.240005</td>\n",
       "      <td>192.339996</td>\n",
       "      <td>192.339996</td>\n",
       "      <td>73300</td>\n",
       "      <td>2023-03-28</td>\n",
       "    </tr>\n",
       "    <tr>\n",
       "      <th>959</th>\n",
       "      <td>2023-03-28 14:50:00+08:00</td>\n",
       "      <td>192.339996</td>\n",
       "      <td>192.339996</td>\n",
       "      <td>192.210007</td>\n",
       "      <td>192.220001</td>\n",
       "      <td>192.220001</td>\n",
       "      <td>86100</td>\n",
       "      <td>2023-03-28</td>\n",
       "    </tr>\n",
       "    <tr>\n",
       "      <th>960</th>\n",
       "      <td>2023-03-28 14:52:00+08:00</td>\n",
       "      <td>192.220001</td>\n",
       "      <td>192.449997</td>\n",
       "      <td>192.220001</td>\n",
       "      <td>192.380005</td>\n",
       "      <td>192.380005</td>\n",
       "      <td>115600</td>\n",
       "      <td>2023-03-28</td>\n",
       "    </tr>\n",
       "    <tr>\n",
       "      <th>961</th>\n",
       "      <td>2023-03-28 14:54:00+08:00</td>\n",
       "      <td>192.369995</td>\n",
       "      <td>192.429993</td>\n",
       "      <td>192.220001</td>\n",
       "      <td>192.389999</td>\n",
       "      <td>192.389999</td>\n",
       "      <td>146635</td>\n",
       "      <td>2023-03-28</td>\n",
       "    </tr>\n",
       "    <tr>\n",
       "      <th>962</th>\n",
       "      <td>2023-03-28 14:56:00+08:00</td>\n",
       "      <td>192.399994</td>\n",
       "      <td>192.460007</td>\n",
       "      <td>192.389999</td>\n",
       "      <td>192.449997</td>\n",
       "      <td>192.449997</td>\n",
       "      <td>43300</td>\n",
       "      <td>2023-03-28</td>\n",
       "    </tr>\n",
       "  </tbody>\n",
       "</table>\n",
       "<p>276 rows × 8 columns</p>\n",
       "</div>"
      ],
      "text/plain": [
       "                      Datetime        Open        High         Low  \\\n",
       "687  2023-03-27 09:30:00+08:00  192.800003  192.800003  189.539993   \n",
       "688  2023-03-27 09:32:00+08:00  189.559998  190.500000  189.559998   \n",
       "689  2023-03-27 09:34:00+08:00  190.289993  190.740005  190.289993   \n",
       "690  2023-03-27 09:36:00+08:00  190.449997  190.449997  190.000000   \n",
       "691  2023-03-27 09:38:00+08:00  190.009995  190.839996  189.919998   \n",
       "..                         ...         ...         ...         ...   \n",
       "958  2023-03-28 14:48:00+08:00  192.270004  192.360001  192.240005   \n",
       "959  2023-03-28 14:50:00+08:00  192.339996  192.339996  192.210007   \n",
       "960  2023-03-28 14:52:00+08:00  192.220001  192.449997  192.220001   \n",
       "961  2023-03-28 14:54:00+08:00  192.369995  192.429993  192.220001   \n",
       "962  2023-03-28 14:56:00+08:00  192.399994  192.460007  192.389999   \n",
       "\n",
       "          Close   Adj Close  Volume        Date  \n",
       "687  189.800003  189.800003  698700  2023-03-27  \n",
       "688  190.350006  190.350006  340100  2023-03-27  \n",
       "689  190.470001  190.470001  206400  2023-03-27  \n",
       "690  190.009995  190.009995  248599  2023-03-27  \n",
       "691  190.500000  190.500000  138500  2023-03-27  \n",
       "..          ...         ...     ...         ...  \n",
       "958  192.339996  192.339996   73300  2023-03-28  \n",
       "959  192.220001  192.220001   86100  2023-03-28  \n",
       "960  192.380005  192.380005  115600  2023-03-28  \n",
       "961  192.389999  192.389999  146635  2023-03-28  \n",
       "962  192.449997  192.449997   43300  2023-03-28  \n",
       "\n",
       "[276 rows x 8 columns]"
      ]
     },
     "execution_count": 25,
     "metadata": {},
     "output_type": "execute_result"
    }
   ],
   "source": [
    "data.query(\"Date >= '2023-03-20' and Date < '2023-03-29'\").reset_index(drop=True).query(\"Date >= '2023-03-27'\")"
   ]
  },
  {
   "cell_type": "code",
   "execution_count": null,
   "id": "a8362457-a918-4bb4-b88c-ba0a73f4b89d",
   "metadata": {},
   "outputs": [],
   "source": []
  }
 ],
 "metadata": {
  "kernelspec": {
   "display_name": "stocks-sY1nLSOQ",
   "language": "python",
   "name": "stocks-sy1nlsoq"
  },
  "language_info": {
   "codemirror_mode": {
    "name": "ipython",
    "version": 3
   },
   "file_extension": ".py",
   "mimetype": "text/x-python",
   "name": "python",
   "nbconvert_exporter": "python",
   "pygments_lexer": "ipython3",
   "version": "3.9.12"
  }
 },
 "nbformat": 4,
 "nbformat_minor": 5
}
